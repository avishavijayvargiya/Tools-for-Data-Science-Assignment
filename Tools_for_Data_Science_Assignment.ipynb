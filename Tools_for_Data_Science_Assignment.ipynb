{
  "nbformat": 4,
  "nbformat_minor": 0,
  "metadata": {
    "colab": {
      "provenance": []
    },
    "kernelspec": {
      "name": "python3",
      "display_name": "Python 3"
    },
    "language_info": {
      "name": "python"
    }
  },
  "cells": [
    {
      "cell_type": "markdown",
      "source": [
        "## Data Science Tools and Ecosystem"
      ],
      "metadata": {
        "id": "E-bHe3q9bTOq"
      }
    },
    {
      "cell_type": "markdown",
      "source": [
        "In this notebook, Data Science Tools and Ecosystem are summarized."
      ],
      "metadata": {
        "id": "xLgefP1KbgHL"
      }
    },
    {
      "cell_type": "markdown",
      "source": [
        "**Objectives:**\n",
        "\n",
        "\n",
        "*   Listed popular languages that data scientists use.\n",
        "*   Understanding the usage of arithmetic operations.\n",
        "*   Understanding the usage  of markdown cells.\n",
        "\n",
        "\n",
        "\n"
      ],
      "metadata": {
        "id": "ia15zO_67ecw"
      }
    },
    {
      "cell_type": "markdown",
      "source": [
        "Some of the popular languages that Data Scientists use are:\n",
        "\n",
        "Python\n",
        "\n",
        "1.   R\n",
        "2.   SQL\n",
        "3.   Java\n",
        "4.   Julia\n",
        "5.   Scala\n",
        "6.   C/C++\n",
        "7.   JavaScript\n"
      ],
      "metadata": {
        "id": "2BJlfF6vjaIo"
      }
    },
    {
      "cell_type": "markdown",
      "source": [
        "Some of the commonly used libraries used by Data Scientists include:\n",
        "\n",
        "1. TensorFlow\n",
        "2. NumPy\n",
        "3. SciPy\n",
        "4. Pandas\n",
        "5. Matplotlib\n",
        "6. Keras\n",
        "7. SciKit-Learn\n",
        "8. PyTorch. Scrapy\n",
        "9. BeautifulSoup\n",
        "10. LightGBM\n",
        "\n",
        "\n"
      ],
      "metadata": {
        "id": "df-t44vBka_g"
      }
    },
    {
      "cell_type": "markdown",
      "source": [
        "|Data Science Tools|\n",
        "|------------------|\n",
        "|SAS|\n",
        "|Apache Spark|\n",
        "|BigML|"
      ],
      "metadata": {
        "id": "mKz7Hxvn41LC"
      }
    },
    {
      "cell_type": "markdown",
      "source": [
        "Below are a few examples of evaluating arithmetic expressions in Python:"
      ],
      "metadata": {
        "id": "x0bsmHqL6X1j"
      }
    },
    {
      "cell_type": "code",
      "source": [
        "# Arithmetic operations\n",
        "code = compile(\"5 + 4\", \"\", \"eval\")\n",
        "eval(code)\n",
        "# Result: 9\n",
        ""
      ],
      "metadata": {
        "colab": {
          "base_uri": "https://localhost:8080/"
        },
        "id": "Y3Ffu0gc88ZU",
        "outputId": "8a8a9a83-aae6-4e2c-be48-918b3b4d5f72"
      },
      "execution_count": 3,
      "outputs": [
        {
          "output_type": "execute_result",
          "data": {
            "text/plain": [
              "9"
            ]
          },
          "metadata": {},
          "execution_count": 3
        }
      ]
    },
    {
      "cell_type": "code",
      "source": [
        "code1 = compile(\"(5 + 7) * 2\", \"\", \"eval\")\n",
        "eval(code1)\n",
        "# Result: 24"
      ],
      "metadata": {
        "colab": {
          "base_uri": "https://localhost:8080/"
        },
        "id": "_v0zAC118_4W",
        "outputId": "dd8b8e96-00ac-4202-8d03-a5a17bed7799"
      },
      "execution_count": 4,
      "outputs": [
        {
          "output_type": "execute_result",
          "data": {
            "text/plain": [
              "24"
            ]
          },
          "metadata": {},
          "execution_count": 4
        }
      ]
    },
    {
      "cell_type": "code",
      "source": [
        "import math\n",
        "# Volume of a sphere\n",
        "code2 = compile(\"4 / 3 * math.pi * math.pow(25, 3)\", \"\", \"eval\")\n",
        "eval(code2)\n",
        "# Result: 65449.84694978735"
      ],
      "metadata": {
        "colab": {
          "base_uri": "https://localhost:8080/"
        },
        "id": "IVrQrDt39FbV",
        "outputId": "b935d94c-4950-4c0a-ce6e-e6fe4d20ce9f"
      },
      "execution_count": 5,
      "outputs": [
        {
          "output_type": "execute_result",
          "data": {
            "text/plain": [
              "65449.84694978735"
            ]
          },
          "metadata": {},
          "execution_count": 5
        }
      ]
    },
    {
      "cell_type": "code",
      "source": [
        "(3*4)+5\n",
        "# Result: 17\n",
        ""
      ],
      "metadata": {
        "colab": {
          "base_uri": "https://localhost:8080/"
        },
        "id": "UVd8j8lubZBZ",
        "outputId": "60899c61-4f6c-437a-bea1-38629b299ecd"
      },
      "execution_count": 1,
      "outputs": [
        {
          "output_type": "execute_result",
          "data": {
            "text/plain": [
              "17"
            ]
          },
          "metadata": {},
          "execution_count": 1
        }
      ]
    },
    {
      "cell_type": "code",
      "source": [
        "\n",
        "days = 0\n",
        "hours = 0\n",
        "mins = 0\n",
        "\n",
        "time = 200\n",
        "#days = time / 1440\n",
        "leftover_minutes = time % 1440\n",
        "hours = leftover_minutes / 60\n",
        "#mins = time - (days*1440) - (hours*60)\n",
        "print(str(days) + \" days, \" + str(hours) + \" hours, \" + str(mins) +  \" mins. \")\n",
        "\n",
        "# Result: 3.3333333333333335 hours"
      ],
      "metadata": {
        "colab": {
          "base_uri": "https://localhost:8080/"
        },
        "id": "w6LHJBdJ65PC",
        "outputId": "33c192d1-136e-48a9-d312-6abf94957c2e"
      },
      "execution_count": 2,
      "outputs": [
        {
          "output_type": "stream",
          "name": "stdout",
          "text": [
            "0 days, 3.3333333333333335 hours, 0 mins. \n"
          ]
        }
      ]
    },
    {
      "cell_type": "markdown",
      "source": [
        "## Author:\n",
        "Avisha Vijayvargiya"
      ],
      "metadata": {
        "id": "nr1JZk4Q8JYb"
      }
    },
    {
      "cell_type": "code",
      "source": [],
      "metadata": {
        "id": "YdX2306a6_cx"
      },
      "execution_count": null,
      "outputs": []
    }
  ]
}